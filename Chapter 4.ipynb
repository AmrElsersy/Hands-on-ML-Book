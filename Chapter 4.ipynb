{
 "cells": [
  {
   "cell_type": "markdown",
   "id": "6a19eb68",
   "metadata": {},
   "source": [
    "# Overfitting vs Underfitting\n",
    "you can use cross-validation to get an estimate of a model’s generalization\n",
    "performance. \n",
    "- If a model performs well on the training data but generalizes poorly according to the cross-validation metrics, then your model is overfitting. \n",
    "\n",
    "- If it per‐forms poorly on both, then it is underfitting. This is one way to tell when a model is\n",
    "too simple or too complex.\n",
    "\n",
    "### Underfitting:\n",
    "- If your model is **underfitting** the training data, **adding more train‐\n",
    "ing examples will not help**. \n",
    "\n",
    "- You need to use a more **complex model**\n",
    "or come up with **better features**.\n",
    "\n",
    "\n",
    "\n",
    "### Overfitting:\n",
    "- If **overfitting** model: **feed it more training data**\n",
    "until the validation error reaches the training error.\n",
    "- or **regulerization**"
   ]
  },
  {
   "cell_type": "markdown",
   "id": "55c938b0",
   "metadata": {},
   "source": [
    "#  Polynomial Regression"
   ]
  },
  {
   "cell_type": "code",
   "execution_count": 1,
   "id": "612810b6",
   "metadata": {},
   "outputs": [],
   "source": [
    "import numpy as np\n",
    "from sklearn.linear_model import LinearRegression\n",
    "from sklearn.pipeline import Pipeline"
   ]
  },
  {
   "cell_type": "code",
   "execution_count": 2,
   "id": "a038c2ac",
   "metadata": {},
   "outputs": [],
   "source": [
    "# polynomial data 2nd order equation data\n",
    "n = 100 # samples\n",
    "X = 6 * np.random.rand(n, 1) - 3\n",
    "y = 0.5 * X**2 + X + 2 + np.random.randn(n, 1)"
   ]
  },
  {
   "cell_type": "code",
   "execution_count": 3,
   "id": "4e1b81c1",
   "metadata": {},
   "outputs": [],
   "source": [
    "import matplotlib.pyplot as plt\n",
    "%matplotlib inline"
   ]
  },
  {
   "cell_type": "code",
   "execution_count": 7,
   "id": "692d9d0f",
   "metadata": {},
   "outputs": [
    {
     "data": {
      "text/plain": [
       "<matplotlib.collections.PathCollection at 0x7f156a002940>"
      ]
     },
     "execution_count": 7,
     "metadata": {},
     "output_type": "execute_result"
    },
    {
     "data": {
      "image/png": "[encoded data removed]",
      "text/plain": [
       "<Figure size 432x288 with 1 Axes>"
      ]
     },
     "metadata": {
      "needs_background": "light"
     },
     "output_type": "display_data"
    }
   ],
   "source": [
    "plt.scatter(X, y)"
   ]
  },
  {
   "cell_type": "code",
   "execution_count": 8,
   "id": "64b0ec10",
   "metadata": {},
   "outputs": [],
   "source": [
    "from sklearn.preprocessing import PolynomialFeatures\n",
    "# Adds to each x feature the 2nd order feature and the bias (new feature = [x, x^2, bias])\n",
    "polynomial_features_transformer = PolynomialFeatures(degree=2, include_bias=True)"
   ]
  },
  {
   "cell_type": "code",
   "execution_count": 9,
   "id": "95c0a529",
   "metadata": {},
   "outputs": [],
   "source": [
    "X_poly_features = polynomial_features_transformer.fit_transform(X)"
   ]
  },
  {
   "cell_type": "code",
   "execution_count": 13,
   "id": "6ceedfac",
   "metadata": {},
   "outputs": [
    {
     "data": {
      "text/plain": [
       "array([[ 1.        , -2.33712587,  5.46215732],\n",
       "       [ 1.        , -0.45559182,  0.20756391],\n",
       "       [ 1.        , -1.24090145,  1.53983642],\n",
       "       [ 1.        ,  1.79643437,  3.22717643],\n",
       "       [ 1.        , -1.53194829,  2.34686557]])"
      ]
     },
     "execution_count": 13,
     "metadata": {},
     "output_type": "execute_result"
    }
   ],
   "source": [
    "X_poly_features[:5]"
   ]
  },
  {
   "cell_type": "code",
   "execution_count": 14,
   "id": "27aa6ea4",
   "metadata": {},
   "outputs": [],
   "source": [
    "# Pass the polynomial features to linear regression = polynomial regression\n",
    "regression = LinearRegression()"
   ]
  },
  {
   "cell_type": "code",
   "execution_count": 15,
   "id": "50f03f2b",
   "metadata": {},
   "outputs": [
    {
     "data": {
      "text/plain": [
       "LinearRegression()"
      ]
     },
     "execution_count": 15,
     "metadata": {},
     "output_type": "execute_result"
    }
   ],
   "source": [
    "regression.fit(X=X_poly_features, y=y)"
   ]
  },
  {
   "cell_type": "code",
   "execution_count": 18,
   "id": "0c872838",
   "metadata": {},
   "outputs": [],
   "source": [
    "train_predictions = regression.predict(X_poly_features)"
   ]
  },
  {
   "cell_type": "code",
   "execution_count": 30,
   "id": "d9ba1b2d",
   "metadata": {},
   "outputs": [
    {
     "data": {
      "text/plain": [
       "<matplotlib.collections.PathCollection at 0x7f156a14ab80>"
      ]
     },
     "execution_count": 30,
     "metadata": {},
     "output_type": "execute_result"
    },
    {
     "data": {
      "image/png": "[encoded data removed]",
      "text/plain": [
       "<Figure size 432x288 with 1 Axes>"
      ]
     },
     "metadata": {
      "needs_background": "light"
     },
     "output_type": "display_data"
    }
   ],
   "source": [
    "plt.scatter(X, train_predictions)\n",
    "plt.scatter(X, y, color=\"red\")"
   ]
  },
  {
   "cell_type": "code",
   "execution_count": 23,
   "id": "20450c0b",
   "metadata": {},
   "outputs": [
    {
     "data": {
      "text/plain": [
       "(array([1.72427752]), array([[0.        , 0.86333112, 0.55553852]]))"
      ]
     },
     "execution_count": 23,
     "metadata": {},
     "output_type": "execute_result"
    }
   ],
   "source": [
    "regression.intercept_, regression.coef_\n",
    "# 2nd equation = 0.55 x^2 + 0.86 x + 1.72\n",
    "# the true equation before noise was 0.5 x^2 + x + 2"
   ]
  },
  {
   "cell_type": "markdown",
   "id": "54b111c9",
   "metadata": {},
   "source": [
    "# Regularization\n",
    "\n",
    "Note that the regularization term should only be added\n",
    "to the cost function during training Once the model is trained, you want to evaluate\n",
    "the model’s performance using the unregularized performance measure.\n",
    "It is quite common for the cost function used during training to be\n",
    "different from the performance measure used for testing. Apart\n",
    "from regularization, another reason why they might be different is\n",
    "that a good training cost function should have optimizationfriendly derivatives, while the performance measure used for test‐ing should be as close as possible to the final objective. A good\n",
    "example of this is a classifier trained using a cost function such as\n",
    "the log loss but evaluated using precision/\n",
    "recall"
   ]
  },
  {
   "cell_type": "markdown",
   "id": "489e3cd3",
   "metadata": {},
   "source": [
    "# Logistic Regression"
   ]
  },
  {
   "cell_type": "code",
   "execution_count": 1,
   "id": "7ac2eea2",
   "metadata": {},
   "outputs": [],
   "source": [
    "from sklearn.datasets import load_iris\n",
    "dataset = load_iris()"
   ]
  },
  {
   "cell_type": "code",
   "execution_count": 2,
   "id": "5d41159d",
   "metadata": {},
   "outputs": [
    {
     "data": {
      "text/plain": [
       "dict_keys(['data', 'target', 'frame', 'target_names', 'DESCR', 'feature_names', 'filename'])"
      ]
     },
     "execution_count": 2,
     "metadata": {},
     "output_type": "execute_result"
    }
   ],
   "source": [
    "dataset.keys()"
   ]
  },
  {
   "cell_type": "code",
   "execution_count": 3,
   "id": "c38f82aa",
   "metadata": {},
   "outputs": [],
   "source": [
    "X = dataset['data']\n",
    "y = dataset['target']"
   ]
  },
  {
   "cell_type": "code",
   "execution_count": 12,
   "id": "26e4916f",
   "metadata": {},
   "outputs": [
    {
     "data": {
      "text/plain": [
       "((150, 4), (150,), array([5.1, 3.5, 1.4, 0.2]))"
      ]
     },
     "execution_count": 12,
     "metadata": {},
     "output_type": "execute_result"
    }
   ],
   "source": [
    "X.shape, y.shape, X[0]"
   ]
  },
  {
   "cell_type": "code",
   "execution_count": 13,
   "id": "c93ea113",
   "metadata": {},
   "outputs": [],
   "source": [
    "from sklearn.linear_model import LogisticRegression"
   ]
  },
  {
   "cell_type": "markdown",
   "id": "f957746c",
   "metadata": {},
   "source": [
    "- it uses logistic regression that outputs a propability of each class in range[0-1]\n",
    "- then apply softmax function to map all the probabilities to sum to 1"
   ]
  },
  {
   "cell_type": "code",
   "execution_count": 32,
   "id": "71e30ea6",
   "metadata": {},
   "outputs": [],
   "source": [
    "# Options of multilcass ['multinomial':you classify from many classes, 'ovr': binary classification]\n",
    "softmax_logistic_regression = LogisticRegression(multi_class=\"multinomial\",solver=\"lbfgs\", C=10, max_iter=1000)"
   ]
  },
  {
   "cell_type": "code",
   "execution_count": 33,
   "id": "043222b5",
   "metadata": {},
   "outputs": [
    {
     "data": {
      "text/plain": [
       "LogisticRegression(C=10, max_iter=1000, multi_class='multinomial')"
      ]
     },
     "execution_count": 33,
     "metadata": {},
     "output_type": "execute_result"
    }
   ],
   "source": [
    "softmax_logistic_regression.fit(X, y)"
   ]
  },
  {
   "cell_type": "code",
   "execution_count": 43,
   "id": "ded5df89",
   "metadata": {},
   "outputs": [],
   "source": [
    "props = softmax_logistic_regression.predict_proba(X[0].reshape(1,-1))"
   ]
  },
  {
   "cell_type": "code",
   "execution_count": 44,
   "id": "95129571",
   "metadata": {},
   "outputs": [
    {
     "data": {
      "text/plain": [
       "array([[9.97170183e-01, 2.82981711e-03, 3.81078214e-15]])"
      ]
     },
     "execution_count": 44,
     "metadata": {},
     "output_type": "execute_result"
    }
   ],
   "source": [
    "props"
   ]
  },
  {
   "cell_type": "code",
   "execution_count": 45,
   "id": "ed2c25a7",
   "metadata": {},
   "outputs": [],
   "source": [
    "import numpy as np\n",
    "prediction = np.argmax(props)"
   ]
  },
  {
   "cell_type": "code",
   "execution_count": 46,
   "id": "425f92fb",
   "metadata": {},
   "outputs": [
    {
     "data": {
      "text/plain": [
       "0"
      ]
     },
     "execution_count": 46,
     "metadata": {},
     "output_type": "execute_result"
    }
   ],
   "source": [
    "prediction"
   ]
  },
  {
   "cell_type": "code",
   "execution_count": null,
   "id": "f0b2497f",
   "metadata": {},
   "outputs": [],
   "source": []
  }
 ],
 "metadata": {
  "kernelspec": {
   "display_name": "Python 3",
   "language": "python",
   "name": "python3"
  },
  "language_info": {
   "codemirror_mode": {
    "name": "ipython",
    "version": 3
   },
   "file_extension": ".py",
   "mimetype": "text/x-python",
   "name": "python",
   "nbconvert_exporter": "python",
   "pygments_lexer": "ipython3",
   "version": "3.8.10"
  }
 },
 "nbformat": 4,
 "nbformat_minor": 5
}
