{
 "cells": [
  {
   "cell_type": "code",
   "execution_count": 2,
   "id": "7bd76bfd",
   "metadata": {},
   "outputs": [],
   "source": [
    "from sklearn.datasets import fetch_openml"
   ]
  },
  {
   "cell_type": "code",
   "execution_count": 3,
   "id": "563606bf",
   "metadata": {},
   "outputs": [],
   "source": [
    "MNIST = fetch_openml(\"mnist_784\", version=1)"
   ]
  },
  {
   "cell_type": "code",
   "execution_count": 4,
   "id": "47c0f66e",
   "metadata": {},
   "outputs": [
    {
     "data": {
      "text/plain": [
       "dict_keys(['data', 'target', 'frame', 'categories', 'feature_names', 'target_names', 'DESCR', 'details', 'url'])"
      ]
     },
     "execution_count": 4,
     "metadata": {},
     "output_type": "execute_result"
    }
   ],
   "source": [
    "MNIST.keys()"
   ]
  },
  {
   "cell_type": "code",
   "execution_count": 5,
   "id": "49bed700",
   "metadata": {},
   "outputs": [],
   "source": [
    "data = MNIST[\"data\"]\n",
    "labels = MNIST[\"target\"]"
   ]
  },
  {
   "cell_type": "code",
   "execution_count": 6,
   "id": "fed13f61",
   "metadata": {},
   "outputs": [
    {
     "data": {
      "text/plain": [
       "(70000, 784)"
      ]
     },
     "execution_count": 6,
     "metadata": {},
     "output_type": "execute_result"
    }
   ],
   "source": [
    "data.shape"
   ]
  },
  {
   "cell_type": "code",
   "execution_count": 7,
   "id": "4648187c",
   "metadata": {},
   "outputs": [
    {
     "data": {
      "text/plain": [
       "(70000,)"
      ]
     },
     "execution_count": 7,
     "metadata": {},
     "output_type": "execute_result"
    }
   ],
   "source": [
    "labels.shape"
   ]
  },
  {
   "cell_type": "code",
   "execution_count": 8,
   "id": "273344de",
   "metadata": {},
   "outputs": [],
   "source": [
    "import numpy as np\n",
    "labels = labels.astype(np.uint8)"
   ]
  },
  {
   "cell_type": "markdown",
   "id": "6a5dcc36",
   "metadata": {},
   "source": [
    "# Split Train Test Sets\n",
    "MNIST is shuffled and splitted such as the first 60000 sample is the train set and the last 10000 is the testset"
   ]
  },
  {
   "cell_type": "code",
   "execution_count": 9,
   "id": "9d78185f",
   "metadata": {},
   "outputs": [],
   "source": [
    "split_index = 60000\n",
    "\n",
    "train_set = data[:split_index]\n",
    "test_set = data[split_index:]\n",
    "\n",
    "train_labels = labels[:split_index]\n",
    "test_labels = labels[split_index:]"
   ]
  },
  {
   "cell_type": "code",
   "execution_count": 10,
   "id": "9cb8d624",
   "metadata": {},
   "outputs": [],
   "source": [
    "%matplotlib inline\n",
    "import matplotlib.pyplot as plt"
   ]
  },
  {
   "cell_type": "code",
   "execution_count": 11,
   "id": "5e54d21b",
   "metadata": {},
   "outputs": [
    {
     "data": {
      "image/png": "[encoded data removed]",
      "text/plain": [
       "<Figure size 432x288 with 1 Axes>"
      ]
     },
     "metadata": {
      "needs_background": "light"
     },
     "output_type": "display_data"
    }
   ],
   "source": [
    "sample = train_set.to_numpy()[0]\n",
    "sample_image = sample.reshape(28,28)\n",
    "plt.imshow(sample_image)\n",
    "plt.show()"
   ]
  },
  {
   "cell_type": "code",
   "execution_count": 12,
   "id": "091ecf4b",
   "metadata": {},
   "outputs": [
    {
     "data": {
      "text/plain": [
       "0        5\n",
       "1        0\n",
       "2        4\n",
       "3        1\n",
       "4        9\n",
       "        ..\n",
       "69995    2\n",
       "69996    3\n",
       "69997    4\n",
       "69998    5\n",
       "69999    6\n",
       "Name: class, Length: 70000, dtype: uint8"
      ]
     },
     "execution_count": 12,
     "metadata": {},
     "output_type": "execute_result"
    }
   ],
   "source": [
    "labels"
   ]
  },
  {
   "cell_type": "code",
   "execution_count": 13,
   "id": "fe10eb15",
   "metadata": {},
   "outputs": [
    {
     "data": {
      "text/plain": [
       "<matplotlib.axes._subplots.AxesSubplot at 0x7f0d9b6907f0>"
      ]
     },
     "execution_count": 13,
     "metadata": {},
     "output_type": "execute_result"
    },
    {
     "data": {
      "image/png": "[encoded data removed]",
      "text/plain": [
       "<Figure size 432x288 with 1 Axes>"
      ]
     },
     "metadata": {
      "needs_background": "light"
     },
     "output_type": "display_data"
    }
   ],
   "source": [
    "labels.hist(bins=100)"
   ]
  },
  {
   "cell_type": "code",
   "execution_count": 14,
   "id": "dc6a4730",
   "metadata": {},
   "outputs": [
    {
     "data": {
      "text/plain": [
       "1    7877\n",
       "7    7293\n",
       "3    7141\n",
       "2    6990\n",
       "9    6958\n",
       "0    6903\n",
       "6    6876\n",
       "8    6825\n",
       "4    6824\n",
       "5    6313\n",
       "Name: class, dtype: int64"
      ]
     },
     "execution_count": 14,
     "metadata": {},
     "output_type": "execute_result"
    }
   ],
   "source": [
    "labels.value_counts()"
   ]
  },
  {
   "cell_type": "markdown",
   "id": "0be4e44f",
   "metadata": {},
   "source": [
    "# SGD Classifier\n",
    "a simple SGDClassifier, which is a linear model. All it\n",
    "does is assign a weight per class to each pixel, and when it sees a new image it just\n",
    "sums up the weighted pixel intensities to get a score for each class"
   ]
  },
  {
   "cell_type": "code",
   "execution_count": 15,
   "id": "0d5ac386",
   "metadata": {},
   "outputs": [],
   "source": [
    "from sklearn.linear_model import SGDClassifier"
   ]
  },
  {
   "cell_type": "code",
   "execution_count": 16,
   "id": "84abcc8c",
   "metadata": {},
   "outputs": [],
   "source": [
    "# SGD is linear classifier for binay classification, we have multiclass (10 classes) so it trains 10 of SGDs\n",
    "sgd_clf = SGDClassifier(random_state=42)"
   ]
  },
  {
   "cell_type": "code",
   "execution_count": 17,
   "id": "e27e316e",
   "metadata": {},
   "outputs": [
    {
     "data": {
      "text/plain": [
       "SGDClassifier(random_state=42)"
      ]
     },
     "execution_count": 17,
     "metadata": {},
     "output_type": "execute_result"
    }
   ],
   "source": [
    "sgd_clf.fit(train_set, train_labels)"
   ]
  },
  {
   "cell_type": "code",
   "execution_count": 18,
   "id": "e755426b",
   "metadata": {},
   "outputs": [
    {
     "data": {
      "text/plain": [
       "array([7, 2, 1, 0, 4], dtype=uint8)"
      ]
     },
     "execution_count": 18,
     "metadata": {},
     "output_type": "execute_result"
    }
   ],
   "source": [
    "some_samples = test_set.iloc[:5]\n",
    "some_labels = test_labels.iloc[:5]\n",
    "predictions = sgd_clf.predict(some_samples)\n",
    "predictions"
   ]
  },
  {
   "cell_type": "code",
   "execution_count": 19,
   "id": "1f6b4755",
   "metadata": {},
   "outputs": [
    {
     "data": {
      "text/plain": [
       "60000    7\n",
       "60001    2\n",
       "60002    1\n",
       "60003    0\n",
       "60004    4\n",
       "Name: class, dtype: uint8"
      ]
     },
     "execution_count": 19,
     "metadata": {},
     "output_type": "execute_result"
    }
   ],
   "source": [
    "some_labels"
   ]
  },
  {
   "cell_type": "code",
   "execution_count": 20,
   "id": "dfbcbb5a",
   "metadata": {},
   "outputs": [],
   "source": [
    "predictions_test_set = sgd_clf.predict(test_set)"
   ]
  },
  {
   "cell_type": "markdown",
   "id": "81942173",
   "metadata": {},
   "source": [
    "# Evaluation Confusion Matrix\n",
    "Each row represents the class itself\n",
    ",Each column represents the predictions fo that class\n",
    ",Diagonal should be maximum (idealy = num of occerunce of that class) to make good evaluation"
   ]
  },
  {
   "cell_type": "code",
   "execution_count": 21,
   "id": "5b239dee",
   "metadata": {},
   "outputs": [],
   "source": [
    "from sklearn.metrics import confusion_matrix"
   ]
  },
  {
   "cell_type": "code",
   "execution_count": 22,
   "id": "0fa77798",
   "metadata": {},
   "outputs": [],
   "source": [
    "conf_matrix = confusion_matrix(y_true=test_labels, y_pred=predictions_test_set)"
   ]
  },
  {
   "cell_type": "code",
   "execution_count": 23,
   "id": "9f791306",
   "metadata": {},
   "outputs": [
    {
     "data": {
      "text/plain": [
       "array([[ 902,    0,    8,   11,    1,   13,    2,    4,   39,    0],\n",
       "       [   0, 1095,    2,    3,    0,    2,    4,    1,   28,    0],\n",
       "       [   1,   10,  803,   69,    6,    4,    4,   10,  122,    3],\n",
       "       [   0,    1,    6,  931,    1,   21,    3,    7,   35,    5],\n",
       "       [   2,    2,    9,   15,  778,    4,    2,    9,   62,   99],\n",
       "       [   6,    2,    1,   71,    3,  709,   12,   12,   67,    9],\n",
       "       [   5,    3,   12,   13,    5,   21,  854,    0,   45,    0],\n",
       "       [   0,    3,   18,   20,    3,    4,    1,  919,   18,   42],\n",
       "       [   3,    5,    2,   30,    4,   43,    5,    5,  872,    5],\n",
       "       [   3,    5,    2,   33,    7,    5,    0,   20,   57,  877]])"
      ]
     },
     "execution_count": 23,
     "metadata": {},
     "output_type": "execute_result"
    }
   ],
   "source": [
    "conf_matrix"
   ]
  },
  {
   "cell_type": "code",
   "execution_count": 24,
   "id": "f3b5e698",
   "metadata": {},
   "outputs": [
    {
     "data": {
      "text/plain": [
       "1    1135\n",
       "2    1032\n",
       "7    1028\n",
       "3    1010\n",
       "9    1009\n",
       "4     982\n",
       "0     980\n",
       "8     974\n",
       "6     958\n",
       "5     892\n",
       "Name: class, dtype: int64"
      ]
     },
     "execution_count": 24,
     "metadata": {},
     "output_type": "execute_result"
    }
   ],
   "source": [
    "test_labels.value_counts()"
   ]
  },
  {
   "cell_type": "markdown",
   "id": "4bca4cfd",
   "metadata": {},
   "source": [
    "# Cross Validation\n",
    "We shouldn't use the test set till we finish the model, we will use sklearn cross validation with folds = 5"
   ]
  },
  {
   "cell_type": "code",
   "execution_count": 25,
   "id": "e81ece9f",
   "metadata": {},
   "outputs": [],
   "source": [
    "from sklearn.model_selection import cross_val_predict"
   ]
  },
  {
   "cell_type": "code",
   "execution_count": 26,
   "id": "076d3e86",
   "metadata": {},
   "outputs": [],
   "source": [
    "validation_predictions = cross_val_predict(estimator=sgd_clf,\n",
    "                                            X=train_set,\n",
    "                                            y=train_labels,\n",
    "                                            cv=5)"
   ]
  },
  {
   "cell_type": "code",
   "execution_count": 27,
   "id": "1e5b2d43",
   "metadata": {},
   "outputs": [],
   "source": [
    "conf_matrix = confusion_matrix(y_true=train_labels, y_pred=validation_predictions)"
   ]
  },
  {
   "cell_type": "code",
   "execution_count": 28,
   "id": "8410b7d1",
   "metadata": {},
   "outputs": [
    {
     "data": {
      "text/plain": [
       "array([[5613,    0,   58,   32,   13,   69,   54,   13,   53,   18],\n",
       "       [   2, 6483,   52,   21,    8,   24,    9,   11,  115,   17],\n",
       "       [  67,   89, 5124,  108,   78,   37,  119,   91,  217,   28],\n",
       "       [  37,   42,  194, 5149,   29,  253,   43,   82,  197,  105],\n",
       "       [  29,   30,   44,   11, 5167,   19,   61,   50,   69,  362],\n",
       "       [  76,   32,   49,  252,   92, 4418,  129,   20,  263,   90],\n",
       "       [  45,   20,   75,    8,   47,   98, 5580,    2,   38,    5],\n",
       "       [  30,   25,   54,   40,   80,   26,    8, 5599,   47,  356],\n",
       "       [  46,  200,  161,  180,   69,  277,   64,   33, 4672,  149],\n",
       "       [  32,   40,   34,   97,  302,   71,    6,  284,  100, 4983]])"
      ]
     },
     "execution_count": 28,
     "metadata": {},
     "output_type": "execute_result"
    }
   ],
   "source": [
    "conf_matrix"
   ]
  },
  {
   "cell_type": "markdown",
   "id": "cf053d16",
   "metadata": {},
   "source": [
    "#  Precision & Recall & F1 Score\n",
    "precision = TP / TP + FP <br>\n",
    "recall    = TP / TP + FN <br>\n",
    "f1 score is the combination between them <br>\n",
    "\n",
    "precision: how much TP from all positive classifications (when you say that this number is 5, how accurate is that? how much it was actually 5 ? <br>\n",
    "\n",
    "recall: how much TP from all actual classficiations (percentage of 5 you classfied to total num of 5s)"
   ]
  },
  {
   "cell_type": "code",
   "execution_count": 29,
   "id": "0bfab359",
   "metadata": {},
   "outputs": [],
   "source": [
    "from sklearn.metrics import precision_score, recall_score, f1_score"
   ]
  },
  {
   "cell_type": "code",
   "execution_count": 30,
   "id": "f9ac2e5f",
   "metadata": {},
   "outputs": [],
   "source": [
    "precision = precision_score(y_pred=validation_predictions, y_true=train_labels, average=\"macro\")\n",
    "recall = recall_score(y_pred=validation_predictions, y_true=train_labels, average=\"macro\")\n",
    "f1 = f1_score(y_pred=validation_predictions, y_true=train_labels, average=\"macro\")"
   ]
  },
  {
   "cell_type": "code",
   "execution_count": 31,
   "id": "17dd09b7",
   "metadata": {},
   "outputs": [
    {
     "data": {
      "text/plain": [
       "0.8781714816602457"
      ]
     },
     "execution_count": 31,
     "metadata": {},
     "output_type": "execute_result"
    }
   ],
   "source": [
    "precision"
   ]
  },
  {
   "cell_type": "code",
   "execution_count": 32,
   "id": "0bc5ff1f",
   "metadata": {},
   "outputs": [
    {
     "data": {
      "text/plain": [
       "0.8781229426143075"
      ]
     },
     "execution_count": 32,
     "metadata": {},
     "output_type": "execute_result"
    }
   ],
   "source": [
    "recall"
   ]
  },
  {
   "cell_type": "code",
   "execution_count": 33,
   "id": "1cc5e6a5",
   "metadata": {},
   "outputs": [
    {
     "data": {
      "text/plain": [
       "0.8780295041097735"
      ]
     },
     "execution_count": 33,
     "metadata": {},
     "output_type": "execute_result"
    }
   ],
   "source": [
    "f1"
   ]
  },
  {
   "cell_type": "code",
   "execution_count": 34,
   "id": "52336ccf",
   "metadata": {},
   "outputs": [
    {
     "data": {
      "text/plain": [
       "array([5, 0, 4, ..., 5, 6, 8], dtype=uint8)"
      ]
     },
     "execution_count": 34,
     "metadata": {},
     "output_type": "execute_result"
    }
   ],
   "source": [
    "validation_predictions"
   ]
  },
  {
   "cell_type": "code",
   "execution_count": 35,
   "id": "be009262",
   "metadata": {},
   "outputs": [
    {
     "data": {
      "text/plain": [
       "array([5, 0, 4, ..., 5, 6, 8], dtype=uint8)"
      ]
     },
     "execution_count": 35,
     "metadata": {},
     "output_type": "execute_result"
    }
   ],
   "source": [
    "train_labels.to_numpy()"
   ]
  },
  {
   "cell_type": "markdown",
   "id": "c74ef4e3",
   "metadata": {},
   "source": [
    "# Threshold(probability) of the binary calssification"
   ]
  },
  {
   "cell_type": "code",
   "execution_count": 42,
   "id": "c99cb503",
   "metadata": {},
   "outputs": [],
   "source": [
    "# get the score of the predictions\n",
    "some_predictions_score = sgd_clf.decision_function(some_samples)"
   ]
  },
  {
   "cell_type": "code",
   "execution_count": 43,
   "id": "b9bcb7e7",
   "metadata": {},
   "outputs": [
    {
     "data": {
      "text/plain": [
       "array([-27972.77566096, -52417.77039463, -14344.98217961,  -1308.44575644,\n",
       "       -19922.84531732,  -9208.91066356, -38331.13646795,   8007.54256279,\n",
       "        -4273.31795296,  -5951.32911022])"
      ]
     },
     "execution_count": 43,
     "metadata": {},
     "output_type": "execute_result"
    }
   ],
   "source": [
    "some_predictions_score[0] # 7 is the label (the 7th index only one that has +ve value > threshold (=0 by default))"
   ]
  },
  {
   "cell_type": "code",
   "execution_count": 58,
   "id": "4232379a",
   "metadata": {},
   "outputs": [
    {
     "data": {
      "text/plain": [
       "7"
      ]
     },
     "execution_count": 58,
     "metadata": {},
     "output_type": "execute_result"
    }
   ],
   "source": [
    "# search for the highst score\n",
    "np.argmax(some_predictions_score[0])"
   ]
  },
  {
   "cell_type": "code",
   "execution_count": 44,
   "id": "952d3c19",
   "metadata": {},
   "outputs": [],
   "source": [
    "# calls decision_function and returns scores and you `ve to compare them with threshold\n",
    "validation_predictions_scores = cross_val_predict(estimator=sgd_clf,\n",
    "                                            X=train_set,\n",
    "                                            y=train_labels,\n",
    "                                            cv=3,\n",
    "                                            method=\"decision_function\")"
   ]
  },
  {
   "cell_type": "code",
   "execution_count": 57,
   "id": "a1a83538",
   "metadata": {},
   "outputs": [
    {
     "data": {
      "text/plain": [
       "(60000, 10)"
      ]
     },
     "execution_count": 57,
     "metadata": {},
     "output_type": "execute_result"
    }
   ],
   "source": [
    "validation_predictions_scores.shape"
   ]
  },
  {
   "cell_type": "markdown",
   "id": "397a5599",
   "metadata": {},
   "source": [
    "# Preprocessing (Standerization)\n",
    "\n",
    "We didn't scale the input data (pixels still from 0-255) it is better to scale them using normalization or standerization"
   ]
  },
  {
   "cell_type": "code",
   "execution_count": 59,
   "id": "c2b914b4",
   "metadata": {},
   "outputs": [],
   "source": [
    "from sklearn.preprocessing import StandardScaler\n",
    "standerization = StandardScaler()"
   ]
  },
  {
   "cell_type": "code",
   "execution_count": 66,
   "id": "63a7756c",
   "metadata": {},
   "outputs": [],
   "source": [
    "train_set_scaled = standerization.fit_transform(train_set.astype(np.float64))"
   ]
  },
  {
   "cell_type": "code",
   "execution_count": 75,
   "id": "678a669e",
   "metadata": {},
   "outputs": [
    {
     "data": {
      "image/png": "[encoded data removed]",
      "text/plain": [
       "<Figure size 432x288 with 1 Axes>"
      ]
     },
     "metadata": {
      "needs_background": "light"
     },
     "output_type": "display_data"
    }
   ],
   "source": [
    "image = train_set_scaled[0]\n",
    "image = image.reshape(28,28) \n",
    "plt.imshow(image)\n",
    "plt.show()"
   ]
  },
  {
   "cell_type": "code",
   "execution_count": 76,
   "id": "a1058427",
   "metadata": {},
   "outputs": [
    {
     "data": {
      "text/html": [
       "<div>\n",
       "<style scoped>\n",
       "    .dataframe tbody tr th:only-of-type {\n",
       "        vertical-align: middle;\n",
       "    }\n",
       "\n",
       "    .dataframe tbody tr th {\n",
       "        vertical-align: top;\n",
       "    }\n",
       "\n",
       "    .dataframe thead th {\n",
       "        text-align: right;\n",
       "    }\n",
       "</style>\n",
       "<table border=\"1\" class=\"dataframe\">\n",
       "  <thead>\n",
       "    <tr style=\"text-align: right;\">\n",
       "      <th></th>\n",
       "      <th>pixel1</th>\n",
       "      <th>pixel2</th>\n",
       "      <th>pixel3</th>\n",
       "      <th>pixel4</th>\n",
       "      <th>pixel5</th>\n",
       "      <th>pixel6</th>\n",
       "      <th>pixel7</th>\n",
       "      <th>pixel8</th>\n",
       "      <th>pixel9</th>\n",
       "      <th>pixel10</th>\n",
       "      <th>...</th>\n",
       "      <th>pixel775</th>\n",
       "      <th>pixel776</th>\n",
       "      <th>pixel777</th>\n",
       "      <th>pixel778</th>\n",
       "      <th>pixel779</th>\n",
       "      <th>pixel780</th>\n",
       "      <th>pixel781</th>\n",
       "      <th>pixel782</th>\n",
       "      <th>pixel783</th>\n",
       "      <th>pixel784</th>\n",
       "    </tr>\n",
       "  </thead>\n",
       "  <tbody>\n",
       "    <tr>\n",
       "      <th>count</th>\n",
       "      <td>60000.0</td>\n",
       "      <td>60000.0</td>\n",
       "      <td>60000.0</td>\n",
       "      <td>60000.0</td>\n",
       "      <td>60000.0</td>\n",
       "      <td>60000.0</td>\n",
       "      <td>60000.0</td>\n",
       "      <td>60000.0</td>\n",
       "      <td>60000.0</td>\n",
       "      <td>60000.0</td>\n",
       "      <td>...</td>\n",
       "      <td>60000.000000</td>\n",
       "      <td>60000.000000</td>\n",
       "      <td>60000.000000</td>\n",
       "      <td>60000.000000</td>\n",
       "      <td>60000.000000</td>\n",
       "      <td>60000.0000</td>\n",
       "      <td>60000.0</td>\n",
       "      <td>60000.0</td>\n",
       "      <td>60000.0</td>\n",
       "      <td>60000.0</td>\n",
       "    </tr>\n",
       "    <tr>\n",
       "      <th>mean</th>\n",
       "      <td>0.0</td>\n",
       "      <td>0.0</td>\n",
       "      <td>0.0</td>\n",
       "      <td>0.0</td>\n",
       "      <td>0.0</td>\n",
       "      <td>0.0</td>\n",
       "      <td>0.0</td>\n",
       "      <td>0.0</td>\n",
       "      <td>0.0</td>\n",
       "      <td>0.0</td>\n",
       "      <td>...</td>\n",
       "      <td>0.200433</td>\n",
       "      <td>0.088867</td>\n",
       "      <td>0.045633</td>\n",
       "      <td>0.019283</td>\n",
       "      <td>0.015117</td>\n",
       "      <td>0.0020</td>\n",
       "      <td>0.0</td>\n",
       "      <td>0.0</td>\n",
       "      <td>0.0</td>\n",
       "      <td>0.0</td>\n",
       "    </tr>\n",
       "    <tr>\n",
       "      <th>std</th>\n",
       "      <td>0.0</td>\n",
       "      <td>0.0</td>\n",
       "      <td>0.0</td>\n",
       "      <td>0.0</td>\n",
       "      <td>0.0</td>\n",
       "      <td>0.0</td>\n",
       "      <td>0.0</td>\n",
       "      <td>0.0</td>\n",
       "      <td>0.0</td>\n",
       "      <td>0.0</td>\n",
       "      <td>...</td>\n",
       "      <td>6.042472</td>\n",
       "      <td>3.956189</td>\n",
       "      <td>2.839845</td>\n",
       "      <td>1.686770</td>\n",
       "      <td>1.678283</td>\n",
       "      <td>0.3466</td>\n",
       "      <td>0.0</td>\n",
       "      <td>0.0</td>\n",
       "      <td>0.0</td>\n",
       "      <td>0.0</td>\n",
       "    </tr>\n",
       "    <tr>\n",
       "      <th>min</th>\n",
       "      <td>0.0</td>\n",
       "      <td>0.0</td>\n",
       "      <td>0.0</td>\n",
       "      <td>0.0</td>\n",
       "      <td>0.0</td>\n",
       "      <td>0.0</td>\n",
       "      <td>0.0</td>\n",
       "      <td>0.0</td>\n",
       "      <td>0.0</td>\n",
       "      <td>0.0</td>\n",
       "      <td>...</td>\n",
       "      <td>0.000000</td>\n",
       "      <td>0.000000</td>\n",
       "      <td>0.000000</td>\n",
       "      <td>0.000000</td>\n",
       "      <td>0.000000</td>\n",
       "      <td>0.0000</td>\n",
       "      <td>0.0</td>\n",
       "      <td>0.0</td>\n",
       "      <td>0.0</td>\n",
       "      <td>0.0</td>\n",
       "    </tr>\n",
       "    <tr>\n",
       "      <th>25%</th>\n",
       "      <td>0.0</td>\n",
       "      <td>0.0</td>\n",
       "      <td>0.0</td>\n",
       "      <td>0.0</td>\n",
       "      <td>0.0</td>\n",
       "      <td>0.0</td>\n",
       "      <td>0.0</td>\n",
       "      <td>0.0</td>\n",
       "      <td>0.0</td>\n",
       "      <td>0.0</td>\n",
       "      <td>...</td>\n",
       "      <td>0.000000</td>\n",
       "      <td>0.000000</td>\n",
       "      <td>0.000000</td>\n",
       "      <td>0.000000</td>\n",
       "      <td>0.000000</td>\n",
       "      <td>0.0000</td>\n",
       "      <td>0.0</td>\n",
       "      <td>0.0</td>\n",
       "      <td>0.0</td>\n",
       "      <td>0.0</td>\n",
       "    </tr>\n",
       "    <tr>\n",
       "      <th>50%</th>\n",
       "      <td>0.0</td>\n",
       "      <td>0.0</td>\n",
       "      <td>0.0</td>\n",
       "      <td>0.0</td>\n",
       "      <td>0.0</td>\n",
       "      <td>0.0</td>\n",
       "      <td>0.0</td>\n",
       "      <td>0.0</td>\n",
       "      <td>0.0</td>\n",
       "      <td>0.0</td>\n",
       "      <td>...</td>\n",
       "      <td>0.000000</td>\n",
       "      <td>0.000000</td>\n",
       "      <td>0.000000</td>\n",
       "      <td>0.000000</td>\n",
       "      <td>0.000000</td>\n",
       "      <td>0.0000</td>\n",
       "      <td>0.0</td>\n",
       "      <td>0.0</td>\n",
       "      <td>0.0</td>\n",
       "      <td>0.0</td>\n",
       "    </tr>\n",
       "    <tr>\n",
       "      <th>75%</th>\n",
       "      <td>0.0</td>\n",
       "      <td>0.0</td>\n",
       "      <td>0.0</td>\n",
       "      <td>0.0</td>\n",
       "      <td>0.0</td>\n",
       "      <td>0.0</td>\n",
       "      <td>0.0</td>\n",
       "      <td>0.0</td>\n",
       "      <td>0.0</td>\n",
       "      <td>0.0</td>\n",
       "      <td>...</td>\n",
       "      <td>0.000000</td>\n",
       "      <td>0.000000</td>\n",
       "      <td>0.000000</td>\n",
       "      <td>0.000000</td>\n",
       "      <td>0.000000</td>\n",
       "      <td>0.0000</td>\n",
       "      <td>0.0</td>\n",
       "      <td>0.0</td>\n",
       "      <td>0.0</td>\n",
       "      <td>0.0</td>\n",
       "    </tr>\n",
       "    <tr>\n",
       "      <th>max</th>\n",
       "      <td>0.0</td>\n",
       "      <td>0.0</td>\n",
       "      <td>0.0</td>\n",
       "      <td>0.0</td>\n",
       "      <td>0.0</td>\n",
       "      <td>0.0</td>\n",
       "      <td>0.0</td>\n",
       "      <td>0.0</td>\n",
       "      <td>0.0</td>\n",
       "      <td>0.0</td>\n",
       "      <td>...</td>\n",
       "      <td>254.000000</td>\n",
       "      <td>254.000000</td>\n",
       "      <td>253.000000</td>\n",
       "      <td>253.000000</td>\n",
       "      <td>254.000000</td>\n",
       "      <td>62.0000</td>\n",
       "      <td>0.0</td>\n",
       "      <td>0.0</td>\n",
       "      <td>0.0</td>\n",
       "      <td>0.0</td>\n",
       "    </tr>\n",
       "  </tbody>\n",
       "</table>\n",
       "<p>8 rows × 784 columns</p>\n",
       "</div>"
      ],
      "text/plain": [
       "        pixel1   pixel2   pixel3   pixel4   pixel5   pixel6   pixel7   pixel8  \\\n",
       "count  60000.0  60000.0  60000.0  60000.0  60000.0  60000.0  60000.0  60000.0   \n",
       "mean       0.0      0.0      0.0      0.0      0.0      0.0      0.0      0.0   \n",
       "std        0.0      0.0      0.0      0.0      0.0      0.0      0.0      0.0   \n",
       "min        0.0      0.0      0.0      0.0      0.0      0.0      0.0      0.0   \n",
       "25%        0.0      0.0      0.0      0.0      0.0      0.0      0.0      0.0   \n",
       "50%        0.0      0.0      0.0      0.0      0.0      0.0      0.0      0.0   \n",
       "75%        0.0      0.0      0.0      0.0      0.0      0.0      0.0      0.0   \n",
       "max        0.0      0.0      0.0      0.0      0.0      0.0      0.0      0.0   \n",
       "\n",
       "        pixel9  pixel10  ...      pixel775      pixel776      pixel777  \\\n",
       "count  60000.0  60000.0  ...  60000.000000  60000.000000  60000.000000   \n",
       "mean       0.0      0.0  ...      0.200433      0.088867      0.045633   \n",
       "std        0.0      0.0  ...      6.042472      3.956189      2.839845   \n",
       "min        0.0      0.0  ...      0.000000      0.000000      0.000000   \n",
       "25%        0.0      0.0  ...      0.000000      0.000000      0.000000   \n",
       "50%        0.0      0.0  ...      0.000000      0.000000      0.000000   \n",
       "75%        0.0      0.0  ...      0.000000      0.000000      0.000000   \n",
       "max        0.0      0.0  ...    254.000000    254.000000    253.000000   \n",
       "\n",
       "           pixel778      pixel779    pixel780  pixel781  pixel782  pixel783  \\\n",
       "count  60000.000000  60000.000000  60000.0000   60000.0   60000.0   60000.0   \n",
       "mean       0.019283      0.015117      0.0020       0.0       0.0       0.0   \n",
       "std        1.686770      1.678283      0.3466       0.0       0.0       0.0   \n",
       "min        0.000000      0.000000      0.0000       0.0       0.0       0.0   \n",
       "25%        0.000000      0.000000      0.0000       0.0       0.0       0.0   \n",
       "50%        0.000000      0.000000      0.0000       0.0       0.0       0.0   \n",
       "75%        0.000000      0.000000      0.0000       0.0       0.0       0.0   \n",
       "max      253.000000    254.000000     62.0000       0.0       0.0       0.0   \n",
       "\n",
       "       pixel784  \n",
       "count   60000.0  \n",
       "mean        0.0  \n",
       "std         0.0  \n",
       "min         0.0  \n",
       "25%         0.0  \n",
       "50%         0.0  \n",
       "75%         0.0  \n",
       "max         0.0  \n",
       "\n",
       "[8 rows x 784 columns]"
      ]
     },
     "execution_count": 76,
     "metadata": {},
     "output_type": "execute_result"
    }
   ],
   "source": [
    "train_set.describe()"
   ]
  },
  {
   "cell_type": "code",
   "execution_count": 79,
   "id": "ba9669e8",
   "metadata": {},
   "outputs": [
    {
     "data": {
      "text/html": [
       "<div>\n",
       "<style scoped>\n",
       "    .dataframe tbody tr th:only-of-type {\n",
       "        vertical-align: middle;\n",
       "    }\n",
       "\n",
       "    .dataframe tbody tr th {\n",
       "        vertical-align: top;\n",
       "    }\n",
       "\n",
       "    .dataframe thead th {\n",
       "        text-align: right;\n",
       "    }\n",
       "</style>\n",
       "<table border=\"1\" class=\"dataframe\">\n",
       "  <thead>\n",
       "    <tr style=\"text-align: right;\">\n",
       "      <th></th>\n",
       "      <th>pixel1</th>\n",
       "      <th>pixel2</th>\n",
       "      <th>pixel3</th>\n",
       "      <th>pixel4</th>\n",
       "      <th>pixel5</th>\n",
       "      <th>pixel6</th>\n",
       "      <th>pixel7</th>\n",
       "      <th>pixel8</th>\n",
       "      <th>pixel9</th>\n",
       "      <th>pixel10</th>\n",
       "      <th>...</th>\n",
       "      <th>pixel775</th>\n",
       "      <th>pixel776</th>\n",
       "      <th>pixel777</th>\n",
       "      <th>pixel778</th>\n",
       "      <th>pixel779</th>\n",
       "      <th>pixel780</th>\n",
       "      <th>pixel781</th>\n",
       "      <th>pixel782</th>\n",
       "      <th>pixel783</th>\n",
       "      <th>pixel784</th>\n",
       "    </tr>\n",
       "  </thead>\n",
       "  <tbody>\n",
       "    <tr>\n",
       "      <th>count</th>\n",
       "      <td>60000.0</td>\n",
       "      <td>60000.0</td>\n",
       "      <td>60000.0</td>\n",
       "      <td>60000.0</td>\n",
       "      <td>60000.0</td>\n",
       "      <td>60000.0</td>\n",
       "      <td>60000.0</td>\n",
       "      <td>60000.0</td>\n",
       "      <td>60000.0</td>\n",
       "      <td>60000.0</td>\n",
       "      <td>...</td>\n",
       "      <td>6.000000e+04</td>\n",
       "      <td>6.000000e+04</td>\n",
       "      <td>6.000000e+04</td>\n",
       "      <td>6.000000e+04</td>\n",
       "      <td>6.000000e+04</td>\n",
       "      <td>6.000000e+04</td>\n",
       "      <td>60000.0</td>\n",
       "      <td>60000.0</td>\n",
       "      <td>60000.0</td>\n",
       "      <td>60000.0</td>\n",
       "    </tr>\n",
       "    <tr>\n",
       "      <th>mean</th>\n",
       "      <td>0.0</td>\n",
       "      <td>0.0</td>\n",
       "      <td>0.0</td>\n",
       "      <td>0.0</td>\n",
       "      <td>0.0</td>\n",
       "      <td>0.0</td>\n",
       "      <td>0.0</td>\n",
       "      <td>0.0</td>\n",
       "      <td>0.0</td>\n",
       "      <td>0.0</td>\n",
       "      <td>...</td>\n",
       "      <td>9.592327e-18</td>\n",
       "      <td>-4.855375e-18</td>\n",
       "      <td>5.713948e-18</td>\n",
       "      <td>-1.835569e-18</td>\n",
       "      <td>-1.421085e-18</td>\n",
       "      <td>-2.486900e-18</td>\n",
       "      <td>0.0</td>\n",
       "      <td>0.0</td>\n",
       "      <td>0.0</td>\n",
       "      <td>0.0</td>\n",
       "    </tr>\n",
       "    <tr>\n",
       "      <th>std</th>\n",
       "      <td>0.0</td>\n",
       "      <td>0.0</td>\n",
       "      <td>0.0</td>\n",
       "      <td>0.0</td>\n",
       "      <td>0.0</td>\n",
       "      <td>0.0</td>\n",
       "      <td>0.0</td>\n",
       "      <td>0.0</td>\n",
       "      <td>0.0</td>\n",
       "      <td>0.0</td>\n",
       "      <td>...</td>\n",
       "      <td>1.000008e+00</td>\n",
       "      <td>1.000008e+00</td>\n",
       "      <td>1.000008e+00</td>\n",
       "      <td>1.000008e+00</td>\n",
       "      <td>1.000008e+00</td>\n",
       "      <td>1.000008e+00</td>\n",
       "      <td>0.0</td>\n",
       "      <td>0.0</td>\n",
       "      <td>0.0</td>\n",
       "      <td>0.0</td>\n",
       "    </tr>\n",
       "    <tr>\n",
       "      <th>min</th>\n",
       "      <td>0.0</td>\n",
       "      <td>0.0</td>\n",
       "      <td>0.0</td>\n",
       "      <td>0.0</td>\n",
       "      <td>0.0</td>\n",
       "      <td>0.0</td>\n",
       "      <td>0.0</td>\n",
       "      <td>0.0</td>\n",
       "      <td>0.0</td>\n",
       "      <td>0.0</td>\n",
       "      <td>...</td>\n",
       "      <td>-3.317103e-02</td>\n",
       "      <td>-2.246288e-02</td>\n",
       "      <td>-1.606909e-02</td>\n",
       "      <td>-1.143220e-02</td>\n",
       "      <td>-9.007295e-03</td>\n",
       "      <td>-5.770394e-03</td>\n",
       "      <td>0.0</td>\n",
       "      <td>0.0</td>\n",
       "      <td>0.0</td>\n",
       "      <td>0.0</td>\n",
       "    </tr>\n",
       "    <tr>\n",
       "      <th>25%</th>\n",
       "      <td>0.0</td>\n",
       "      <td>0.0</td>\n",
       "      <td>0.0</td>\n",
       "      <td>0.0</td>\n",
       "      <td>0.0</td>\n",
       "      <td>0.0</td>\n",
       "      <td>0.0</td>\n",
       "      <td>0.0</td>\n",
       "      <td>0.0</td>\n",
       "      <td>0.0</td>\n",
       "      <td>...</td>\n",
       "      <td>-3.317103e-02</td>\n",
       "      <td>-2.246288e-02</td>\n",
       "      <td>-1.606909e-02</td>\n",
       "      <td>-1.143220e-02</td>\n",
       "      <td>-9.007295e-03</td>\n",
       "      <td>-5.770394e-03</td>\n",
       "      <td>0.0</td>\n",
       "      <td>0.0</td>\n",
       "      <td>0.0</td>\n",
       "      <td>0.0</td>\n",
       "    </tr>\n",
       "    <tr>\n",
       "      <th>50%</th>\n",
       "      <td>0.0</td>\n",
       "      <td>0.0</td>\n",
       "      <td>0.0</td>\n",
       "      <td>0.0</td>\n",
       "      <td>0.0</td>\n",
       "      <td>0.0</td>\n",
       "      <td>0.0</td>\n",
       "      <td>0.0</td>\n",
       "      <td>0.0</td>\n",
       "      <td>0.0</td>\n",
       "      <td>...</td>\n",
       "      <td>-3.317103e-02</td>\n",
       "      <td>-2.246288e-02</td>\n",
       "      <td>-1.606909e-02</td>\n",
       "      <td>-1.143220e-02</td>\n",
       "      <td>-9.007295e-03</td>\n",
       "      <td>-5.770394e-03</td>\n",
       "      <td>0.0</td>\n",
       "      <td>0.0</td>\n",
       "      <td>0.0</td>\n",
       "      <td>0.0</td>\n",
       "    </tr>\n",
       "    <tr>\n",
       "      <th>75%</th>\n",
       "      <td>0.0</td>\n",
       "      <td>0.0</td>\n",
       "      <td>0.0</td>\n",
       "      <td>0.0</td>\n",
       "      <td>0.0</td>\n",
       "      <td>0.0</td>\n",
       "      <td>0.0</td>\n",
       "      <td>0.0</td>\n",
       "      <td>0.0</td>\n",
       "      <td>0.0</td>\n",
       "      <td>...</td>\n",
       "      <td>-3.317103e-02</td>\n",
       "      <td>-2.246288e-02</td>\n",
       "      <td>-1.606909e-02</td>\n",
       "      <td>-1.143220e-02</td>\n",
       "      <td>-9.007295e-03</td>\n",
       "      <td>-5.770394e-03</td>\n",
       "      <td>0.0</td>\n",
       "      <td>0.0</td>\n",
       "      <td>0.0</td>\n",
       "      <td>0.0</td>\n",
       "    </tr>\n",
       "    <tr>\n",
       "      <th>max</th>\n",
       "      <td>0.0</td>\n",
       "      <td>0.0</td>\n",
       "      <td>0.0</td>\n",
       "      <td>0.0</td>\n",
       "      <td>0.0</td>\n",
       "      <td>0.0</td>\n",
       "      <td>0.0</td>\n",
       "      <td>0.0</td>\n",
       "      <td>0.0</td>\n",
       "      <td>0.0</td>\n",
       "      <td>...</td>\n",
       "      <td>4.200296e+01</td>\n",
       "      <td>6.418128e+01</td>\n",
       "      <td>8.907405e+01</td>\n",
       "      <td>1.499806e+02</td>\n",
       "      <td>1.513374e+02</td>\n",
       "      <td>1.788764e+02</td>\n",
       "      <td>0.0</td>\n",
       "      <td>0.0</td>\n",
       "      <td>0.0</td>\n",
       "      <td>0.0</td>\n",
       "    </tr>\n",
       "  </tbody>\n",
       "</table>\n",
       "<p>8 rows × 784 columns</p>\n",
       "</div>"
      ],
      "text/plain": [
       "        pixel1   pixel2   pixel3   pixel4   pixel5   pixel6   pixel7   pixel8  \\\n",
       "count  60000.0  60000.0  60000.0  60000.0  60000.0  60000.0  60000.0  60000.0   \n",
       "mean       0.0      0.0      0.0      0.0      0.0      0.0      0.0      0.0   \n",
       "std        0.0      0.0      0.0      0.0      0.0      0.0      0.0      0.0   \n",
       "min        0.0      0.0      0.0      0.0      0.0      0.0      0.0      0.0   \n",
       "25%        0.0      0.0      0.0      0.0      0.0      0.0      0.0      0.0   \n",
       "50%        0.0      0.0      0.0      0.0      0.0      0.0      0.0      0.0   \n",
       "75%        0.0      0.0      0.0      0.0      0.0      0.0      0.0      0.0   \n",
       "max        0.0      0.0      0.0      0.0      0.0      0.0      0.0      0.0   \n",
       "\n",
       "        pixel9  pixel10  ...      pixel775      pixel776      pixel777  \\\n",
       "count  60000.0  60000.0  ...  6.000000e+04  6.000000e+04  6.000000e+04   \n",
       "mean       0.0      0.0  ...  9.592327e-18 -4.855375e-18  5.713948e-18   \n",
       "std        0.0      0.0  ...  1.000008e+00  1.000008e+00  1.000008e+00   \n",
       "min        0.0      0.0  ... -3.317103e-02 -2.246288e-02 -1.606909e-02   \n",
       "25%        0.0      0.0  ... -3.317103e-02 -2.246288e-02 -1.606909e-02   \n",
       "50%        0.0      0.0  ... -3.317103e-02 -2.246288e-02 -1.606909e-02   \n",
       "75%        0.0      0.0  ... -3.317103e-02 -2.246288e-02 -1.606909e-02   \n",
       "max        0.0      0.0  ...  4.200296e+01  6.418128e+01  8.907405e+01   \n",
       "\n",
       "           pixel778      pixel779      pixel780  pixel781  pixel782  pixel783  \\\n",
       "count  6.000000e+04  6.000000e+04  6.000000e+04   60000.0   60000.0   60000.0   \n",
       "mean  -1.835569e-18 -1.421085e-18 -2.486900e-18       0.0       0.0       0.0   \n",
       "std    1.000008e+00  1.000008e+00  1.000008e+00       0.0       0.0       0.0   \n",
       "min   -1.143220e-02 -9.007295e-03 -5.770394e-03       0.0       0.0       0.0   \n",
       "25%   -1.143220e-02 -9.007295e-03 -5.770394e-03       0.0       0.0       0.0   \n",
       "50%   -1.143220e-02 -9.007295e-03 -5.770394e-03       0.0       0.0       0.0   \n",
       "75%   -1.143220e-02 -9.007295e-03 -5.770394e-03       0.0       0.0       0.0   \n",
       "max    1.499806e+02  1.513374e+02  1.788764e+02       0.0       0.0       0.0   \n",
       "\n",
       "       pixel784  \n",
       "count   60000.0  \n",
       "mean        0.0  \n",
       "std         0.0  \n",
       "min         0.0  \n",
       "25%         0.0  \n",
       "50%         0.0  \n",
       "75%         0.0  \n",
       "max         0.0  \n",
       "\n",
       "[8 rows x 784 columns]"
      ]
     },
     "execution_count": 79,
     "metadata": {},
     "output_type": "execute_result"
    }
   ],
   "source": [
    "import pandas as pd\n",
    "train_set_scaled = pd.DataFrame(train_set_scaled, columns=train_set.columns)\n",
    "train_set_scaled.describe()"
   ]
  },
  {
   "cell_type": "code",
   "execution_count": 80,
   "id": "987d7343",
   "metadata": {},
   "outputs": [],
   "source": [
    "validation_predictions = cross_val_predict(estimator=sgd_clf,\n",
    "                                            X=train_set_scaled,\n",
    "                                            y=train_labels,\n",
    "                                            cv=3)"
   ]
  },
  {
   "cell_type": "code",
   "execution_count": 81,
   "id": "7431b1c8",
   "metadata": {},
   "outputs": [],
   "source": [
    "# Higher precision & recall due to standerization\n",
    "precision = precision_score(y_pred=validation_predictions, y_true=train_labels, average=\"macro\")\n",
    "recall = recall_score(y_pred=validation_predictions, y_true=train_labels, average=\"macro\")\n",
    "f1 = f1_score(y_pred=validation_predictions, y_true=train_labels, average=\"macro\")"
   ]
  },
  {
   "cell_type": "code",
   "execution_count": 82,
   "id": "8e4aff6f",
   "metadata": {},
   "outputs": [
    {
     "data": {
      "text/plain": [
       "0.9058677582614747"
      ]
     },
     "execution_count": 82,
     "metadata": {},
     "output_type": "execute_result"
    }
   ],
   "source": [
    "precision # 0.9058677582614747"
   ]
  },
  {
   "cell_type": "code",
   "execution_count": 83,
   "id": "d1eaa82e",
   "metadata": {},
   "outputs": [
    {
     "data": {
      "text/plain": [
       "0.8958098878393358"
      ]
     },
     "execution_count": 83,
     "metadata": {},
     "output_type": "execute_result"
    }
   ],
   "source": [
    "recall # 0.8958098878393358"
   ]
  },
  {
   "cell_type": "code",
   "execution_count": 84,
   "id": "54ee5e7c",
   "metadata": {},
   "outputs": [],
   "source": [
    "conf_matrix = confusion_matrix(y_pred=validation_predictions, y_true=train_labels)"
   ]
  },
  {
   "cell_type": "code",
   "execution_count": 87,
   "id": "eeed8939",
   "metadata": {},
   "outputs": [
    {
     "data": {
      "text/plain": [
       "<matplotlib.image.AxesImage at 0x7f0d6fb76eb0>"
      ]
     },
     "execution_count": 87,
     "metadata": {},
     "output_type": "execute_result"
    },
    {
     "data": {
      "image/png": "[encoded data removed]",
      "text/plain": [
       "<Figure size 288x288 with 1 Axes>"
      ]
     },
     "metadata": {
      "needs_background": "light"
     },
     "output_type": "display_data"
    }
   ],
   "source": [
    "plt.matshow(conf_matrix, cmap=plt.cm.gray) # since the diagonal is bright, so it is really goood"
   ]
  },
  {
   "cell_type": "markdown",
   "id": "18807be9",
   "metadata": {},
   "source": [
    "# MultiLabel classification"
   ]
  },
  {
   "cell_type": "code",
   "execution_count": 88,
   "id": "0ffbc18a",
   "metadata": {},
   "outputs": [],
   "source": [
    "y_big = (train_labels > 6)\n",
    "y_even = (train_labels % 2 == 0)"
   ]
  },
  {
   "cell_type": "code",
   "execution_count": 93,
   "id": "dd94d213",
   "metadata": {},
   "outputs": [],
   "source": [
    "y_multilabel = np.c_[y_big, y_even]"
   ]
  },
  {
   "cell_type": "code",
   "execution_count": 94,
   "id": "0bb18805",
   "metadata": {},
   "outputs": [
    {
     "data": {
      "text/plain": [
       "array([[False, False],\n",
       "       [False,  True],\n",
       "       [False,  True],\n",
       "       ...,\n",
       "       [False, False],\n",
       "       [False,  True],\n",
       "       [ True,  True]])"
      ]
     },
     "execution_count": 94,
     "metadata": {},
     "output_type": "execute_result"
    }
   ],
   "source": [
    "y_multilabel"
   ]
  },
  {
   "cell_type": "code",
   "execution_count": 95,
   "id": "149bd1ef",
   "metadata": {},
   "outputs": [],
   "source": [
    "# Not all calssifiers supports multilabels but KNeighbors do !\n",
    "from sklearn.neighbors import KNeighborsClassifier\n",
    "kneighbors = KNeighborsClassifier()"
   ]
  },
  {
   "cell_type": "code",
   "execution_count": 96,
   "id": "5f51084f",
   "metadata": {},
   "outputs": [
    {
     "data": {
      "text/plain": [
       "KNeighborsClassifier()"
      ]
     },
     "execution_count": 96,
     "metadata": {},
     "output_type": "execute_result"
    }
   ],
   "source": [
    "kneighbors.fit(train_set_scaled, y_multilabel)"
   ]
  },
  {
   "cell_type": "code",
   "execution_count": 97,
   "id": "f830d58c",
   "metadata": {},
   "outputs": [
    {
     "data": {
      "text/plain": [
       "array([[ True, False],\n",
       "       [False,  True],\n",
       "       [False, False],\n",
       "       [False,  True],\n",
       "       [False,  True]])"
      ]
     },
     "execution_count": 97,
     "metadata": {},
     "output_type": "execute_result"
    }
   ],
   "source": [
    "kneighbors.predict(standerization.transform(some_samples))"
   ]
  },
  {
   "cell_type": "code",
   "execution_count": 98,
   "id": "70a5df29",
   "metadata": {},
   "outputs": [
    {
     "data": {
      "text/plain": [
       "60000    7\n",
       "60001    2\n",
       "60002    1\n",
       "60003    0\n",
       "60004    4\n",
       "Name: class, dtype: uint8"
      ]
     },
     "execution_count": 98,
     "metadata": {},
     "output_type": "execute_result"
    }
   ],
   "source": [
    "some_labels"
   ]
  },
  {
   "cell_type": "code",
   "execution_count": null,
   "id": "4416e656",
   "metadata": {},
   "outputs": [],
   "source": []
  }
 ],
 "metadata": {
  "kernelspec": {
   "display_name": "Python 3",
   "language": "python",
   "name": "python3"
  },
  "language_info": {
   "codemirror_mode": {
    "name": "ipython",
    "version": 3
   },
   "file_extension": ".py",
   "mimetype": "text/x-python",
   "name": "python",
   "nbconvert_exporter": "python",
   "pygments_lexer": "ipython3",
   "version": "3.8.10"
  }
 },
 "nbformat": 4,
 "nbformat_minor": 5
}
