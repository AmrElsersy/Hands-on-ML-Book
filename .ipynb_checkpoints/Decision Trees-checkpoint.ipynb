{
 "cells": [
  {
   "cell_type": "markdown",
   "id": "1e0060cf",
   "metadata": {},
   "source": [
    "# Decision Trees"
   ]
  },
  {
   "cell_type": "code",
   "execution_count": 38,
   "id": "bf262725",
   "metadata": {},
   "outputs": [],
   "source": [
    "from sklearn.datasets import load_iris\n",
    "from sklearn.tree import DecisionTreeClassifier"
   ]
  },
  {
   "cell_type": "code",
   "execution_count": 39,
   "id": "0f51ac04",
   "metadata": {},
   "outputs": [],
   "source": [
    "dataset = load_iris()"
   ]
  },
  {
   "cell_type": "code",
   "execution_count": 40,
   "id": "353e164c",
   "metadata": {},
   "outputs": [],
   "source": [
    "X, y = dataset[\"data\"], dataset[\"target\"]"
   ]
  },
  {
   "cell_type": "code",
   "execution_count": 41,
   "id": "98dfe11e",
   "metadata": {},
   "outputs": [
    {
     "data": {
      "text/plain": [
       "((150, 4),\n",
       " (150,),\n",
       " array([[5.1, 3.5, 1.4, 0.2],\n",
       "        [4.9, 3. , 1.4, 0.2],\n",
       "        [4.7, 3.2, 1.3, 0.2],\n",
       "        [4.6, 3.1, 1.5, 0.2],\n",
       "        [5. , 3.6, 1.4, 0.2]]),\n",
       " array([0, 0, 0, 0, 0]))"
      ]
     },
     "execution_count": 41,
     "metadata": {},
     "output_type": "execute_result"
    }
   ],
   "source": [
    "X.shape, y.shape, X[:5], y[:5]"
   ]
  },
  {
   "cell_type": "code",
   "execution_count": 42,
   "id": "5257a063",
   "metadata": {},
   "outputs": [],
   "source": [
    "tree = DecisionTreeClassifier(max_depth= 3)"
   ]
  },
  {
   "cell_type": "code",
   "execution_count": 43,
   "id": "083859db",
   "metadata": {},
   "outputs": [
    {
     "data": {
      "text/plain": [
       "DecisionTreeClassifier(max_depth=3)"
      ]
     },
     "execution_count": 43,
     "metadata": {},
     "output_type": "execute_result"
    }
   ],
   "source": [
    "tree.fit(X, y)"
   ]
  },
  {
   "cell_type": "code",
   "execution_count": 44,
   "id": "716d4ca5",
   "metadata": {},
   "outputs": [
    {
     "data": {
      "text/plain": [
       "array([[1., 0., 0.],\n",
       "       [1., 0., 0.],\n",
       "       [1., 0., 0.],\n",
       "       [1., 0., 0.],\n",
       "       [1., 0., 0.]])"
      ]
     },
     "execution_count": 44,
     "metadata": {},
     "output_type": "execute_result"
    }
   ],
   "source": [
    "tree.predict_proba(X[:5])"
   ]
  },
  {
   "cell_type": "code",
   "execution_count": 45,
   "id": "562eca09",
   "metadata": {},
   "outputs": [],
   "source": [
    "from sklearn.tree import export_graphviz"
   ]
  },
  {
   "cell_type": "code",
   "execution_count": 46,
   "id": "c01a71f5",
   "metadata": {},
   "outputs": [],
   "source": [
    "export_graphviz(tree, \n",
    "                feature_names=dataset.feature_names, \n",
    "                class_names=dataset.target_names,\n",
    "                out_file=\"tree.dot\",\n",
    "                rounded=True,\n",
    "                filled=True)"
   ]
  },
  {
   "cell_type": "markdown",
   "id": "f51455b3",
   "metadata": {},
   "source": [
    "$ dot -Tpng tree.dot -o decision_tree.png.png\n",
    "![decision tree](decision_tree.png)"
   ]
  },
  {
   "cell_type": "markdown",
   "id": "267e1540",
   "metadata": {},
   "source": [
    "# Decision Tree Algorithm\n",
    "- Decision tree split the data samples using a certain feature with a certain threshold (petal length <= 2.45)\n",
    "- It chooses a feature & threshold that maximize the impurity of the data (minimize the gini)\n",
    "- It keeps splitting the tree till it reach the max_depth or reach a pure node (node with all samples with the same class)\n",
    "- **samples**: Num of samples used in that node\n",
    "- **values**: Num of each class used in the samples (sum of the values of classes = samples)\n",
    "    - at node depth 2 right(length <= 4.85) we have 0 setosa samples, 1 versicolor samples, 45 viriginca samples\n",
    "    - all sum to 46 which is total num of samples\n",
    "- **class**: Predicted class\n",
    "- **gini**: describes the impurity of the node (gini = 0: pure node, all the samples corresponds to the detected class)\n",
    "    - gini = 1 - Sum(ratio of the i class)\n",
    "    - at node depth 2 right(length <= 4.85), gini = 1-(0/46)-(1/46)-(45/46) = 0.043\n",
    "\n",
    "\n",
    "### CART Algorithm\n",
    "- **Loss** is the **weighted avarage** between **impurity** of left and right splits\n",
    "- J= m_left/m * G_left + m_right/m * G_right\n",
    "    - G_left/right measures the impurity of the left/right subset,\n",
    "    - m_left/right is the number of instances in the left/right subset.\n",
    "    \n",
    "### Regularization\n",
    "Decision trees always **overfits** the data. <br>\n",
    "To regularize, tune the hyperparameters:\n",
    "- **min_samples_split** (the minimum number of sam‐ples a node must have before it can be split)\n",
    "- **min_samples_leaf** (the minimum number of samples a leaf node must have)\n",
    "- **max_leaf_nodes** (maximum number of leaf nodes), and max_features (maximum number of features that are evaluated for splitting at each node). <br>\n",
    "\n",
    "Increasing min_* hyperparameters or reducing max_* hyperparameters will regularize\n",
    "\n",
    "### Propability \n",
    "Class probability is always the ratio of the class's samples / total samples in the final node <br>\n"
   ]
  },
  {
   "cell_type": "code",
   "execution_count": 61,
   "id": "686be112",
   "metadata": {},
   "outputs": [
    {
     "data": {
      "text/plain": [
       "array([[0.        , 0.33333333, 0.66666667]])"
      ]
     },
     "execution_count": 61,
     "metadata": {},
     "output_type": "execute_result"
    }
   ],
   "source": [
    "import numpy as np\n",
    "X_new = np.array([\n",
    "    [0, 0, 5,1]\n",
    "])\n",
    "predicted = tree.predict_proba(X_new)\n",
    "predicted # array([[0.        , 0.33333333, 0.66666667]])\n",
    "# note that probability of virginica = 4/6 = 0.667, no matter what is the input feature, as long as it ended up in that node"
   ]
  },
  {
   "cell_type": "markdown",
   "id": "8aa4da04",
   "metadata": {},
   "source": [
    "# Regression"
   ]
  },
  {
   "cell_type": "code",
   "execution_count": 62,
   "id": "bb2ef32f",
   "metadata": {},
   "outputs": [],
   "source": [
    "from sklearn.tree import DecisionTreeRegressor\n",
    "import numpy as np\n",
    "import matplotlib.pyplot as plt\n",
    "%matplotlib inline"
   ]
  },
  {
   "cell_type": "code",
   "execution_count": 63,
   "id": "55cf48a7",
   "metadata": {},
   "outputs": [],
   "source": [
    "# Quadratic training set + noise\n",
    "np.random.seed(42)\n",
    "m = 200\n",
    "X = np.random.rand(m, 1)\n",
    "y = 4 * (X - 0.5) ** 2\n",
    "noise = np.random.randn(m, 1) / 20\n",
    "y = y + noise"
   ]
  },
  {
   "cell_type": "code",
   "execution_count": 64,
   "id": "5fc53d7b",
   "metadata": {},
   "outputs": [
    {
     "data": {
      "text/plain": [
       "<matplotlib.collections.PathCollection at 0x7fa2523218e0>"
      ]
     },
     "execution_count": 64,
     "metadata": {},
     "output_type": "execute_result"
    },
    {
     "data": {
      "image/png": "[encoded data removed]",
      "text/plain": [
       "<Figure size 432x288 with 1 Axes>"
      ]
     },
     "metadata": {
      "needs_background": "light"
     },
     "output_type": "display_data"
    }
   ],
   "source": [
    "plt.scatter(x=X, y=y, s=5, c=y)"
   ]
  },
  {
   "cell_type": "code",
   "execution_count": 65,
   "id": "cc5788c1",
   "metadata": {},
   "outputs": [],
   "source": [
    "reg_tree = DecisionTreeRegressor(max_depth=2, min_samples_leaf=5, random_state=42)"
   ]
  },
  {
   "cell_type": "code",
   "execution_count": 66,
   "id": "a61a281d",
   "metadata": {},
   "outputs": [
    {
     "data": {
      "text/plain": [
       "((200, 1),\n",
       " (200, 1),\n",
       " array([[0.37454012],\n",
       "        [0.95071431],\n",
       "        [0.73199394],\n",
       "        [0.59865848],\n",
       "        [0.15601864]]),\n",
       " array([[0.02895949],\n",
       "        [0.82418623],\n",
       "        [0.22993838],\n",
       "        [0.00321642],\n",
       "        [0.56658143]]))"
      ]
     },
     "execution_count": 66,
     "metadata": {},
     "output_type": "execute_result"
    }
   ],
   "source": [
    "X.shape, y.shape, X[:5], y[:5]"
   ]
  },
  {
   "cell_type": "code",
   "execution_count": 67,
   "id": "4c0ee889",
   "metadata": {},
   "outputs": [
    {
     "data": {
      "text/plain": [
       "DecisionTreeRegressor(max_depth=2, min_samples_leaf=5, random_state=42)"
      ]
     },
     "execution_count": 67,
     "metadata": {},
     "output_type": "execute_result"
    }
   ],
   "source": [
    "reg_tree.fit(X, y)"
   ]
  },
  {
   "cell_type": "code",
   "execution_count": 68,
   "id": "2daad90b",
   "metadata": {},
   "outputs": [],
   "source": [
    "from sklearn.tree import export_graphviz\n",
    "export_graphviz(reg_tree, \n",
    "                feature_names=[\"X\"], \n",
    "                class_names=[\"y\"],\n",
    "                out_file=\"regression_tree.dot\",\n",
    "                rounded=True,\n",
    "                filled=True)"
   ]
  },
  {
   "cell_type": "markdown",
   "id": "eb6851cf",
   "metadata": {},
   "source": [
    "![reg_tree](reg_tree.png)\n",
    "\n",
    "## Regression Tree\n",
    "- Value: the avarage values of all samples in that node\n",
    "- for ex: in the most right node, value 0.667 is the avarage of 37 samples in that node\n",
    "- This prediction(=value) results in a Mean Squared Error(MSE) equal to 0.025 over these 37 instances"
   ]
  },
  {
   "cell_type": "code",
   "execution_count": 81,
   "id": "96d08eb5",
   "metadata": {},
   "outputs": [],
   "source": [
    "def plot_reg_tree(reg_tree):\n",
    "    global X, y\n",
    "    axes = [0, 1, -0.2, 1]\n",
    "    x1 = np.linspace(axes[0], axes[1], 500).reshape(-1, 1)\n",
    "    y1 = reg_tree.predict(x1)\n",
    "    plt.scatter(X,y)\n",
    "    plt.plot(x1, y1, c=\"red\", linewidth=5)\n",
    "    plt.scatter(X,y, c=\"blue\", s=0.5)"
   ]
  },
  {
   "cell_type": "code",
   "execution_count": 82,
   "id": "d7964230",
   "metadata": {},
   "outputs": [
    {
     "data": {
      "image/png": "[encoded data removed]",
      "text/plain": [
       "<Figure size 432x288 with 1 Axes>"
      ]
     },
     "metadata": {
      "needs_background": "light"
     },
     "output_type": "display_data"
    }
   ],
   "source": [
    "plot_reg_tree(reg_tree)"
   ]
  },
  {
   "cell_type": "code",
   "execution_count": 83,
   "id": "4d9ae91d",
   "metadata": {},
   "outputs": [
    {
     "data": {
      "image/png": "[encoded data removed]",
      "text/plain": [
       "<Figure size 432x288 with 1 Axes>"
      ]
     },
     "metadata": {
      "needs_background": "light"
     },
     "output_type": "display_data"
    }
   ],
   "source": [
    "# try different hyperparameters\n",
    "reg_tree = DecisionTreeRegressor(max_depth=4, random_state=42)\n",
    "reg_tree.fit(X,y)\n",
    "plot_reg_tree(reg_tree)"
   ]
  },
  {
   "cell_type": "code",
   "execution_count": 87,
   "id": "b9698ca5",
   "metadata": {},
   "outputs": [
    {
     "data": {
      "image/png": "[encoded data removed]",
      "text/plain": [
       "<Figure size 432x288 with 1 Axes>"
      ]
     },
     "metadata": {
      "needs_background": "light"
     },
     "output_type": "display_data"
    }
   ],
   "source": [
    "# power of hyperparameters to regularize\n",
    "reg_tree = DecisionTreeRegressor(max_depth=4,\n",
    "                                 min_samples_split=20,\n",
    "                                 min_samples_leaf=20,\n",
    "                                 random_state=42)\n",
    "reg_tree.fit(X,y)\n",
    "plot_reg_tree(reg_tree)"
   ]
  },
  {
   "cell_type": "code",
   "execution_count": 88,
   "id": "e1af8792",
   "metadata": {},
   "outputs": [
    {
     "data": {
      "image/png": "[encoded data removed]",
      "text/plain": [
       "<Figure size 432x288 with 1 Axes>"
      ]
     },
     "metadata": {
      "needs_background": "light"
     },
     "output_type": "display_data"
    }
   ],
   "source": [
    "# No restrictions (overfitting)\n",
    "reg_tree = DecisionTreeRegressor(random_state=42)\n",
    "reg_tree.fit(X,y)\n",
    "plot_reg_tree(reg_tree)"
   ]
  },
  {
   "cell_type": "markdown",
   "id": "0683ece5",
   "metadata": {},
   "source": [
    "Note that if you increase min_* hyperparmaeters, the tree gets regularized, and become more general, and if you don't use restrictions, it overfits\n",
    "\n",
    "### CART Algorithm\n",
    "Instead of using Impurity in the loss function, we do regression here so we use a wieghted avarage between left & right splits\n",
    "\n",
    "J = m_left/m * **MSE_left** + m_right/m * **MSEright**"
   ]
  },
  {
   "cell_type": "code",
   "execution_count": null,
   "id": "1a273bc9",
   "metadata": {},
   "outputs": [],
   "source": []
  }
 ],
 "metadata": {
  "kernelspec": {
   "display_name": "Python 3",
   "language": "python",
   "name": "python3"
  },
  "language_info": {
   "codemirror_mode": {
    "name": "ipython",
    "version": 3
   },
   "file_extension": ".py",
   "mimetype": "text/x-python",
   "name": "python",
   "nbconvert_exporter": "python",
   "pygments_lexer": "ipython3",
   "version": "3.8.10"
  }
 },
 "nbformat": 4,
 "nbformat_minor": 5
}
